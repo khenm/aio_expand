{
 "cells": [
  {
   "cell_type": "code",
   "execution_count": 5,
   "metadata": {},
   "outputs": [
    {
     "data": {
      "text/plain": [
       "True"
      ]
     },
     "execution_count": 5,
     "metadata": {},
     "output_type": "execute_result"
    }
   ],
   "source": [
    "# Image Flipped Vertically\n",
    "import cv2 # type: ignore\n",
    "import numpy as np\n",
    "\n",
    "img = cv2.imread('./nature_gray.png', 0)\n",
    "height, width = img.shape\n",
    "\n",
    "A = np.array([[1, 0],\n",
    "              [0, -1]])\n",
    "B = np.array([0, height - 1])\n",
    "\n",
    "output = np.zeros((height, width))\n",
    "for x2 in range(height):\n",
    "    for x1 in range(width):\n",
    "        color = img[x2, x1]\n",
    "        v = np.array([x1, x2])\n",
    "        \n",
    "        new_x1, new_x2 = A.dot(v) + B\n",
    "        output[new_x2, new_x1] = color\n",
    "\n",
    "cv2.imwrite('nature_gray_flipped.png', output)"
   ]
  },
  {
   "cell_type": "code",
   "execution_count": 8,
   "metadata": {},
   "outputs": [
    {
     "data": {
      "text/plain": [
       "True"
      ]
     },
     "execution_count": 8,
     "metadata": {},
     "output_type": "execute_result"
    }
   ],
   "source": [
    "# Image Flipped Vertically\n",
    "import cv2  # type: ignore\n",
    "import numpy as np\n",
    "\n",
    "img = cv2.imread('./nature_gray.png', 0)\n",
    "height, width = img.shape\n",
    "\n",
    "A = np.array([[-1, 0],\n",
    "              [0, 1]])\n",
    "B = np.array([width - 1, 0])\n",
    "\n",
    "output = np.zeros((height, width))\n",
    "for x2 in range(height):\n",
    "    for x1 in range(width):\n",
    "        color = img[x2, x1]\n",
    "        v = np.array([x1, x2])\n",
    "\n",
    "        new_x1, new_x2 = A.dot(v) + B\n",
    "        output[new_x2, new_x1] = color\n",
    "\n",
    "cv2.imwrite('nature_gray_flipped_hor.png', output)"
   ]
  },
  {
   "cell_type": "code",
   "execution_count": 12,
   "metadata": {},
   "outputs": [
    {
     "data": {
      "text/plain": [
       "True"
      ]
     },
     "execution_count": 12,
     "metadata": {},
     "output_type": "execute_result"
    }
   ],
   "source": [
    "# Flipping Colored Image\n",
    "import cv2\n",
    "import numpy as np\n",
    "import matplotlib.pyplot as plt\n",
    "\n",
    "img = cv2.imread('nature.png', 1)\n",
    "img = img.astype(float)\n",
    "height, width, depth = img.shape\n",
    "\n",
    "transform = np.array([[1, 0],\n",
    "                      [0, -1]])\n",
    "\n",
    "output = np.zeros((height, width, depth))\n",
    "for i in range(height):\n",
    "    for j in range(width):\n",
    "        pixel = img[i, j, :]\n",
    "        \n",
    "        new_j, new_i = transform.dot(np.array([j, i])) + [0, height - 1]\n",
    "        output[new_i, new_j] = pixel\n",
    "    \n",
    "output = output.astype(np.uint8)\n",
    "cv2.imwrite('nature_flipped_ver.png', output)"
   ]
  }
 ],
 "metadata": {
  "kernelspec": {
   "display_name": "ai_exercise",
   "language": "python",
   "name": "python3"
  },
  "language_info": {
   "codemirror_mode": {
    "name": "ipython",
    "version": 3
   },
   "file_extension": ".py",
   "mimetype": "text/x-python",
   "name": "python",
   "nbconvert_exporter": "python",
   "pygments_lexer": "ipython3",
   "version": "3.11.7"
  }
 },
 "nbformat": 4,
 "nbformat_minor": 2
}
