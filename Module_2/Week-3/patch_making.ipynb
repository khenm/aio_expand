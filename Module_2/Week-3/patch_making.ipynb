{
 "cells": [
  {
   "cell_type": "code",
   "execution_count": 1,
   "metadata": {},
   "outputs": [],
   "source": [
    "# correlation coefficient\n",
    "def find_corr_x_y(x, y):\n",
    "    n = len(x)\n",
    "    prod = []\n",
    "    for xi, yi in zip(x, y):\n",
    "        prod.append(xi * yi)\n",
    "    \n",
    "    sum_prod_x_y = sum(prod)\n",
    "    sum_x = sum(x)\n",
    "    sum_y = sum(y)\n",
    "    squared_sum_x = sum_x ** 2\n",
    "    squared_sum_y = sum_y ** 2\n",
    "    \n",
    "    x_squared = []\n",
    "    for xi in x:\n",
    "        x_squared.append(xi ** 2)\n",
    "    x_squared_sum = sum(x_squared)\n",
    "    \n",
    "    y_squared = []\n",
    "    for yi in y:\n",
    "        y_squared.append(yi ** 2)\n",
    "    y_squared_sum = sum(y_squared)\n",
    "    \n",
    "    numerator = n * sum_prod_x_y - (sum_x * sum_y)\n",
    "    denominator_term1 = n * x_squared_sum - squared_sum_x\n",
    "    denominator_term2 = n * y_squared_sum - squared_sum_y\n",
    "    denominator = np.sqrt(denominator_term1)  *  np.sqrt(denominator_term2)\n",
    "    return numerator / denominator"
   ]
  },
  {
   "cell_type": "code",
   "execution_count": 2,
   "metadata": {},
   "outputs": [],
   "source": [
    "import numpy as np\n",
    "from PIL import Image\n",
    "\n",
    "# load image and convert to list\n",
    "image1 = Image.open('images/patch1.png')\n",
    "image2 = Image.open('images/patch2.png')\n",
    "image3 = Image.open('images/patch3.png')\n",
    "image4 = Image.open('images/patch4.png')\n",
    "\n",
    "image1_list = np.asarray(image1).flatten().tolist()\n",
    "image2_list = np.asarray(image2).flatten().tolist()\n",
    "image3_list = np.asarray(image3).flatten().tolist()\n",
    "image4_list = np.asarray(image4).flatten().tolist()\n",
    "\n",
    "# find correlation coefficient between image1 and image2\n",
    "corr_1_2 = find_corr_x_y(image1_list, image2_list)\n",
    "corr_1_3 = find_corr_x_y(image1_list, image3_list)\n",
    "corr_1_4 = find_corr_x_y(image1_list, image4_list)\n",
    "\n"
   ]
  }
 ],
 "metadata": {
  "kernelspec": {
   "display_name": "base",
   "language": "python",
   "name": "python3"
  },
  "language_info": {
   "codemirror_mode": {
    "name": "ipython",
    "version": 3
   },
   "file_extension": ".py",
   "mimetype": "text/x-python",
   "name": "python",
   "nbconvert_exporter": "python",
   "pygments_lexer": "ipython3",
   "version": "3.12.4"
  }
 },
 "nbformat": 4,
 "nbformat_minor": 2
}
