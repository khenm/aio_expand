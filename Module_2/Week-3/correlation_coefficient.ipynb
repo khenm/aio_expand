{
 "cells": [
  {
   "cell_type": "code",
   "execution_count": 5,
   "metadata": {},
   "outputs": [
    {
     "name": "stdout",
     "output_type": "stream",
     "text": [
      "0.14953944411984518\n",
      "0.14953944411984516\n",
      "PearsonRResult(statistic=0.1495394441198452, pvalue=0.7489628903507808)\n"
     ]
    }
   ],
   "source": [
    "import numpy as np\n",
    "from scipy.stats import pearsonr\n",
    "def find_corr_x_y(x, y):\n",
    "    n = len(x)\n",
    "    prod = []\n",
    "    for xi, yi in zip(x, y):\n",
    "        prod.append(xi * yi)\n",
    "    \n",
    "    sum_prod_x_y = sum(prod)\n",
    "    sum_x = sum(x)\n",
    "    sum_y = sum(y)\n",
    "    squared_sum_x = sum_x ** 2\n",
    "    squared_sum_y = sum_y ** 2\n",
    "    \n",
    "    x_squared = []\n",
    "    for xi in x:\n",
    "        x_squared.append(xi ** 2)\n",
    "    x_squared_sum = sum(x_squared)\n",
    "    \n",
    "    y_squared = []\n",
    "    for yi in y:\n",
    "        y_squared.append(yi ** 2)\n",
    "    y_squared_sum = sum(y_squared)\n",
    "    \n",
    "    numerator = n * sum_prod_x_y - (sum_x * sum_y)\n",
    "    denominator_term1 = n * x_squared_sum - squared_sum_x\n",
    "    denominator_term2 = n * y_squared_sum - squared_sum_y\n",
    "    denominator = np.sqrt(denominator_term1)  *  np.sqrt(denominator_term2)\n",
    "    return numerator / denominator\n",
    "\n",
    "# sample\n",
    "x = [7, 18, 29, 2, 10, 9, 9]\n",
    "y = [1, 6, 12, 8, 6, 21, 10]\n",
    "print(find_corr_x_y(x, y))\n",
    "print(np.corrcoef(x, y)[0][1])\n",
    "print(pearsonr(x, y))"
   ]
  }
 ],
 "metadata": {
  "kernelspec": {
   "display_name": "base",
   "language": "python",
   "name": "python3"
  },
  "language_info": {
   "codemirror_mode": {
    "name": "ipython",
    "version": 3
   },
   "file_extension": ".py",
   "mimetype": "text/x-python",
   "name": "python",
   "nbconvert_exporter": "python",
   "pygments_lexer": "ipython3",
   "version": "3.12.4"
  }
 },
 "nbformat": 4,
 "nbformat_minor": 2
}
