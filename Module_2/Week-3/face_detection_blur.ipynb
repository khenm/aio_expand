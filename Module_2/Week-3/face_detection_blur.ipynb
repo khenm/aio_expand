{
 "cells": [
  {
   "cell_type": "markdown",
   "metadata": {},
   "source": [
    "### Face detection and blurring using OpenCV Face detection a Cascade Classifier"
   ]
  },
  {
   "cell_type": "code",
   "execution_count": 10,
   "metadata": {},
   "outputs": [
    {
     "data": {
      "text/plain": [
       "True"
      ]
     },
     "execution_count": 10,
     "metadata": {},
     "output_type": "execute_result"
    }
   ],
   "source": [
    "# load image and blurring using face detection\n",
    "import numpy as np\n",
    "import cv2\n",
    "import matplotlib.pyplot as plt\n",
    "\n",
    "# face detection setup\n",
    "face_cascade = cv2.CascadeClassifier(cv2.data.haarcascades + 'haarcascade_frontalface_default.xml')\n",
    "\n",
    "# load image in grayscale mode\n",
    "image = cv2.imread('mrbean.jpg', 1)\n",
    "\n",
    "# convert to grayscale\n",
    "gray = cv2.cvtColor(image, cv2.COLOR_BGR2GRAY)\n",
    "cv2.imwrite('mrbean_grayscale.jpg', gray)\n",
    "\n",
    "# face detection\n",
    "faces = face_cascade.detectMultiScale(gray, scaleFactor=1.1, minNeighbors=5)\n",
    "\n",
    "# create kernel\n",
    "kernel = np.ones((7, 7), np.float32) / 49.0\n",
    "\n",
    "# draw the face detections on the image\n",
    "for (x, y, w, h) in faces:\n",
    "    cv2.rectangle(image, (x, y), (x + w, y + h), (0, 255, 0), 1)\n",
    "    roi = image[y : y + h, x : x + w]\n",
    "    \n",
    "    # compute mean for each pixel\n",
    "    roi = cv2.filter2D(roi, cv2.CV_8U, kernel)\n",
    "    roi = cv2.filter2D(roi, cv2.CV_8U, kernel)\n",
    "    roi = cv2.filter2D(roi, cv2.CV_8U, kernel)\n",
    "    roi = np.clip(roi, 0, 255).astype(np.uint8)\n",
    "    \n",
    "    # update the image\n",
    "    image[y : y + h, x : x + w] = roi\n",
    "    \n",
    "# write the image\n",
    "cv2.imwrite('mrbean_blurry.jpg', image)"
   ]
  }
 ],
 "metadata": {
  "kernelspec": {
   "display_name": "base",
   "language": "python",
   "name": "python3"
  },
  "language_info": {
   "codemirror_mode": {
    "name": "ipython",
    "version": 3
   },
   "file_extension": ".py",
   "mimetype": "text/x-python",
   "name": "python",
   "nbconvert_exporter": "python",
   "pygments_lexer": "ipython3",
   "version": "3.12.4"
  }
 },
 "nbformat": 4,
 "nbformat_minor": 2
}
