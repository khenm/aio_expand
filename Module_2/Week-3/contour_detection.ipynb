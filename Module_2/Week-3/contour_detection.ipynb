{
 "cells": [
  {
   "cell_type": "code",
   "execution_count": 1,
   "metadata": {},
   "outputs": [
    {
     "name": "stderr",
     "output_type": "stream",
     "text": [
      "C:\\Users\\DHPC\\AppData\\Local\\Temp\\ipykernel_12392\\1488272478.py:5: DeprecationWarning: Please import `generic_filter` from the `scipy.ndimage` namespace; the `scipy.ndimage.filters` namespace is deprecated and will be removed in SciPy 2.0.0.\n",
      "  from scipy.ndimage.filters import generic_filter\n"
     ]
    },
    {
     "name": "stdout",
     "output_type": "stream",
     "text": [
      "97.80698\n"
     ]
    },
    {
     "data": {
      "text/plain": [
       "True"
      ]
     },
     "execution_count": 1,
     "metadata": {},
     "output_type": "execute_result"
    }
   ],
   "source": [
    "# load library\n",
    "import numpy as np\n",
    "import cv2\n",
    "import math\n",
    "from scipy.ndimage.filters import generic_filter\n",
    "\n",
    "img = cv2.imread('img.jpg', 1)\n",
    "gray = cv2.cvtColor(img,cv2.COLOR_BGR2GRAY)\n",
    "cv2.imwrite('edge_s1.jpg', gray)\n",
    "\n",
    "x = gray.astype(np.float32)\n",
    "x_filter = generic_filter(x, np.std, size=7)\n",
    "cv2.imwrite('edge_s2.jpg', x_filter)\n",
    "\n",
    "x_filter[x_filter < 20] = 0\n",
    "cv2.imwrite('edge_s3.jpg', x_filter)\n",
    "\n",
    "maxv = np.max(x_filter)\n",
    "print(maxv)\n",
    "\n",
    "x_filter = x_filter * 2.5\n",
    "cv2.imwrite('edge_s4.jpg', x_filter)"
   ]
  }
 ],
 "metadata": {
  "kernelspec": {
   "display_name": "base",
   "language": "python",
   "name": "python3"
  },
  "language_info": {
   "codemirror_mode": {
    "name": "ipython",
    "version": 3
   },
   "file_extension": ".py",
   "mimetype": "text/x-python",
   "name": "python",
   "nbconvert_exporter": "python",
   "pygments_lexer": "ipython3",
   "version": "3.12.4"
  }
 },
 "nbformat": 4,
 "nbformat_minor": 2
}
