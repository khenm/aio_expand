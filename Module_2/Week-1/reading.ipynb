{
 "cells": [
  {
   "cell_type": "code",
   "execution_count": 1,
   "metadata": {},
   "outputs": [
    {
     "name": "stdout",
     "output_type": "stream",
     "text": [
      "1.26.4\n"
     ]
    }
   ],
   "source": [
    "import numpy as np\n",
    "print(np.version.version)"
   ]
  },
  {
   "cell_type": "code",
   "execution_count": 2,
   "metadata": {},
   "outputs": [
    {
     "name": "stdout",
     "output_type": "stream",
     "text": [
      "[4 5 6 7 8 9]\n"
     ]
    }
   ],
   "source": [
    "data = np.arange(4, 10)\n",
    "print(data)"
   ]
  },
  {
   "cell_type": "code",
   "execution_count": 3,
   "metadata": {},
   "outputs": [
    {
     "name": "stdout",
     "output_type": "stream",
     "text": [
      "[[ True  True  True]\n",
      " [ True  True  True]\n",
      " [ True  True  True]] \n",
      "--------------------\n",
      "[[ True  True  True]\n",
      " [ True  True  True]\n",
      " [ True  True  True]] \n",
      "--------------------\n",
      "[[ True  True  True]\n",
      " [ True  True  True]\n",
      " [ True  True  True]] \n",
      "--------------------\n"
     ]
    }
   ],
   "source": [
    "# print a boolean 3x3 array with all values = True\n",
    "# way 1\n",
    "data1 = np.ones((3, 3)) > 0\n",
    "print(f'{data1} \\n--------------------')\n",
    "\n",
    "# way 2\n",
    "data2 = np.ones((3, 3), dtype=bool)\n",
    "print(f'{data2} \\n--------------------')\n",
    "\n",
    "# way 3\n",
    "data3 = np.full((3, 3), True, dtype=bool)\n",
    "print(f'{data3} \\n--------------------')"
   ]
  },
  {
   "cell_type": "code",
   "execution_count": 5,
   "metadata": {},
   "outputs": [
    {
     "name": "stdout",
     "output_type": "stream",
     "text": [
      "[0 1 2 3 4 5 6 7 8 9]\n",
      "[1 3 5 7 9]\n"
     ]
    }
   ],
   "source": [
    "# get the array with pre condition\n",
    "data = np.arange(0, 10)\n",
    "print(data)\n",
    "\n",
    "# find odd number\n",
    "data_odd = data[data % 2 == 1]\n",
    "print(data_odd)"
   ]
  },
  {
   "cell_type": "code",
   "execution_count": 7,
   "metadata": {},
   "outputs": [
    {
     "name": "stdout",
     "output_type": "stream",
     "text": [
      "[ 0 -1  2 -1  4 -1  6 -1  8 -1]\n",
      "[ 0 -1  2 -1  4 -1  6 -1  8 -1]\n"
     ]
    }
   ],
   "source": [
    "# replace the elements with other values\n",
    "data[data % 2 == 1] = -1\n",
    "print(data)\n",
    "\n",
    "# another way\n",
    "out = np.where(data % 2 == 1, -1, data)\n",
    "print(out)"
   ]
  },
  {
   "cell_type": "code",
   "execution_count": 8,
   "metadata": {},
   "outputs": [
    {
     "name": "stdout",
     "output_type": "stream",
     "text": [
      "[0 1 2 3 4 5 6 7 8 9]\n",
      "[[0 1 2 3 4]\n",
      " [5 6 7 8 9]]\n"
     ]
    }
   ],
   "source": [
    "# convert an 1D array to 2D array\n",
    "data = np.arange(10)\n",
    "print(data)\n",
    "\n",
    "#\n",
    "data_2d = data.reshape(2, 5)\n",
    "print(data_2d)"
   ]
  },
  {
   "cell_type": "code",
   "execution_count": 15,
   "metadata": {},
   "outputs": [
    {
     "name": "stdout",
     "output_type": "stream",
     "text": [
      "[[0 1 2 3 4]\n",
      " [5 6 7 8 9]\n",
      " [7 7 7 7 7]\n",
      " [7 7 7 7 7]]\n",
      "[[0 1 2 3 4]\n",
      " [5 6 7 8 9]\n",
      " [7 7 7 7 7]\n",
      " [7 7 7 7 7]]\n",
      "[[0 1 2 3 4]\n",
      " [5 6 7 8 9]\n",
      " [7 7 7 7 7]\n",
      " [7 7 7 7 7]]\n"
     ]
    }
   ],
   "source": [
    "# way_1\n",
    "data_1 = np.arange(10).reshape(2, -1)\n",
    "data_2 = np.repeat(7, 10).reshape(2, -1)\n",
    "\n",
    "out1 = np.concatenate([data_1, data_2], axis = 0)\n",
    "print(out1)\n",
    "\n",
    "out2 = np.vstack([data_1, data_2])\n",
    "print(out2)\n",
    "\n",
    "out3 = np.r_[data_1, data_2]\n",
    "print(out3)"
   ]
  },
  {
   "cell_type": "code",
   "execution_count": 17,
   "metadata": {},
   "outputs": [
    {
     "name": "stdout",
     "output_type": "stream",
     "text": [
      "[1 2]\n",
      "[3]\n"
     ]
    }
   ],
   "source": [
    "# get the common values of 2 arrays\n",
    "data1 = np.array([1, 2, 3, 2])\n",
    "data2 = np.array([7, 2, 1, 8])\n",
    "\n",
    "out = np.intersect1d(data1, data2)\n",
    "print(out)\n",
    "print(np.setdiff1d(data1, data2))"
   ]
  },
  {
   "cell_type": "code",
   "execution_count": 18,
   "metadata": {},
   "outputs": [
    {
     "name": "stdout",
     "output_type": "stream",
     "text": [
      "(array([0, 5], dtype=int64),)\n"
     ]
    }
   ],
   "source": [
    "# get the index where the values of 2 array matched\n",
    "data1 = np.array([1, 2, 3, 4, 5, 6])\n",
    "data2 = np.array([1, 1, 1, 6, 6, 6])\n",
    "\n",
    "comp = data1 == data2\n",
    "indices = comp.nonzero()\n",
    "print(indices)"
   ]
  },
  {
   "cell_type": "code",
   "execution_count": 23,
   "metadata": {},
   "outputs": [
    {
     "name": "stdout",
     "output_type": "stream",
     "text": [
      "[1 8 3 9 7 6]\n",
      "[8 9 7]\n",
      "[8 9 7]\n"
     ]
    }
   ],
   "source": [
    "# get all the value in a range\n",
    "data = np.array([1, 8, 3, 9, 7, 6])\n",
    "print(data)\n",
    "\n",
    "indices = np.nonzero(data >= 7) # or np.where(data >= 7)\n",
    "out1 = data[indices] \n",
    "print(out1)\n",
    "\n",
    "out2 = data[data >= 7]\n",
    "print(out2)"
   ]
  },
  {
   "cell_type": "code",
   "execution_count": 2,
   "metadata": {},
   "outputs": [
    {
     "name": "stdout",
     "output_type": "stream",
     "text": [
      "[5 7 8 2 8]\n"
     ]
    }
   ],
   "source": [
    "import numpy as np\n",
    "# use a user-defined function for ndarray using np.vectorize()\n",
    "def get_max(x, y):\n",
    "    if x >= y:\n",
    "        return x\n",
    "    else:\n",
    "        return y\n",
    "\n",
    "pair_max = np.vectorize(get_max, otypes = [int])\n",
    "\n",
    "data_1 = np.array([5, 3, 8, 2, 7])\n",
    "data_2 = np.array([2, 7, 3, 1, 8])\n",
    "out1 = pair_max(data_1, data_2)\n",
    "print(out1)"
   ]
  },
  {
   "cell_type": "code",
   "execution_count": 3,
   "metadata": {},
   "outputs": [
    {
     "name": "stdout",
     "output_type": "stream",
     "text": [
      "[[0 1 2]\n",
      " [3 4 5]\n",
      " [6 7 8]] \n",
      "\n",
      "[[1 0 2]\n",
      " [4 3 5]\n",
      " [7 6 8]]\n"
     ]
    }
   ],
   "source": [
    "import numpy as np\n",
    "\n",
    "data = np.arange(9).reshape(3, 3)\n",
    "print(data, '\\n')\n",
    "\n",
    "out = data[:, [1, 0, 2]]\n",
    "print(out)"
   ]
  },
  {
   "cell_type": "code",
   "execution_count": 4,
   "metadata": {},
   "outputs": [
    {
     "name": "stdout",
     "output_type": "stream",
     "text": [
      "[[0 1 2]\n",
      " [3 4 5]\n",
      " [6 7 8]] \n",
      "\n",
      "[[3 4 5]\n",
      " [0 1 2]\n",
      " [6 7 8]]\n"
     ]
    }
   ],
   "source": [
    "data = np.arange(9).reshape(3, 3)\n",
    "print(data, '\\n')\n",
    "\n",
    "out  = data[[1, 0, 2], :]\n",
    "print(out)"
   ]
  },
  {
   "cell_type": "code",
   "execution_count": 5,
   "metadata": {},
   "outputs": [
    {
     "name": "stdout",
     "output_type": "stream",
     "text": [
      "[[0 1 2]\n",
      " [3 4 5]\n",
      " [6 7 8]] \n",
      "\n",
      "[[6 7 8]\n",
      " [3 4 5]\n",
      " [0 1 2]]\n"
     ]
    }
   ],
   "source": [
    "import numpy as np\n",
    "\n",
    "data = np.arange(9).reshape(3, 3)\n",
    "print(data, '\\n')\n",
    "\n",
    "out = data[::-1, :]\n",
    "print(out)"
   ]
  },
  {
   "cell_type": "code",
   "execution_count": 7,
   "metadata": {},
   "outputs": [
    {
     "name": "stdout",
     "output_type": "stream",
     "text": [
      "[[2 1 0]\n",
      " [5 4 3]\n",
      " [8 7 6]]\n"
     ]
    }
   ],
   "source": [
    "# reverse element in each array\n",
    "out2 = data[:, ::-1]\n",
    "print(out2)"
   ]
  },
  {
   "cell_type": "code",
   "execution_count": 10,
   "metadata": {},
   "outputs": [
    {
     "name": "stdout",
     "output_type": "stream",
     "text": [
      "[[7.54489396 5.00709277 7.68964071]\n",
      " [6.735317   5.31336695 6.21331082]] \n",
      "\n"
     ]
    }
   ],
   "source": [
    "# create an 2d array with random numbers\n",
    "import numpy as np\n",
    "\n",
    "data1 = np.random.uniform(5, 10, size=(2, 3))\n",
    "print(data1, '\\n')\n",
    "\n",
    "data2 = np.random.random([2, 3])"
   ]
  },
  {
   "cell_type": "markdown",
   "metadata": {},
   "source": [
    "# Vector Calculations"
   ]
  },
  {
   "cell_type": "code",
   "execution_count": 11,
   "metadata": {},
   "outputs": [
    {
     "name": "stdout",
     "output_type": "stream",
     "text": [
      "5.0\n"
     ]
    }
   ],
   "source": [
    "u = np.array([1, 2, 4, 2])\n",
    "print(np.linalg.norm(u))"
   ]
  }
 ],
 "metadata": {
  "kernelspec": {
   "display_name": "base",
   "language": "python",
   "name": "python3"
  },
  "language_info": {
   "codemirror_mode": {
    "name": "ipython",
    "version": 3
   },
   "file_extension": ".py",
   "mimetype": "text/x-python",
   "name": "python",
   "nbconvert_exporter": "python",
   "pygments_lexer": "ipython3",
   "version": "3.11.7"
  }
 },
 "nbformat": 4,
 "nbformat_minor": 2
}
